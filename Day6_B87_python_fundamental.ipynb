{
 "cells": [
  {
   "cell_type": "code",
   "execution_count": null,
   "id": "077c9550-dae3-448d-b337-8073c059bdcb",
   "metadata": {},
   "outputs": [],
   "source": [
    "Indroduction to Dictionaries:\n",
    "    Defination: A dictionary is the combination of Key and Valaue pairs\n",
    "    Classification: It is classified as a mutable datatypes.\n",
    "\n",
    "how to define the dictionaries: {} #culy brackets."
   ]
  },
  {
   "cell_type": "code",
   "execution_count": 1,
   "id": "fd36c781-19de-4e09-9899-6a8313e9c79c",
   "metadata": {},
   "outputs": [],
   "source": [
    "#req: I want to design a alien game."
   ]
  },
  {
   "cell_type": "code",
   "execution_count": 12,
   "id": "61c0b86f-522e-4720-94e0-29dabcc215a6",
   "metadata": {},
   "outputs": [
    {
     "name": "stdout",
     "output_type": "stream",
     "text": [
      "{'color': 'green', 'points': 5}\n"
     ]
    }
   ],
   "source": [
    "alien = {'color':'green','points':5}\n",
    "print(alien)"
   ]
  },
  {
   "cell_type": "code",
   "execution_count": 13,
   "id": "c7970026-ba2b-4f9e-ac8a-5fa59f6beee6",
   "metadata": {},
   "outputs": [
    {
     "data": {
      "text/plain": [
       "dict"
      ]
     },
     "execution_count": 13,
     "metadata": {},
     "output_type": "execute_result"
    }
   ],
   "source": [
    "type(alien)"
   ]
  },
  {
   "cell_type": "code",
   "execution_count": null,
   "id": "8160676c-e6b8-4e8f-9308-da1a3d37616c",
   "metadata": {},
   "outputs": [],
   "source": []
  },
  {
   "cell_type": "code",
   "execution_count": null,
   "id": "e1ea2731-fdba-458d-a603-5da1a5fea913",
   "metadata": {},
   "outputs": [],
   "source": []
  }
 ],
 "metadata": {
  "kernelspec": {
   "display_name": "Python 3 (ipykernel)",
   "language": "python",
   "name": "python3"
  },
  "language_info": {
   "codemirror_mode": {
    "name": "ipython",
    "version": 3
   },
   "file_extension": ".py",
   "mimetype": "text/x-python",
   "name": "python",
   "nbconvert_exporter": "python",
   "pygments_lexer": "ipython3",
   "version": "3.13.5"
  }
 },
 "nbformat": 4,
 "nbformat_minor": 5
}
