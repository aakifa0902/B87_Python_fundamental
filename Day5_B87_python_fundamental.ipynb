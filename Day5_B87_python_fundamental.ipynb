{
 "cells": [
  {
   "cell_type": "code",
   "execution_count": null,
   "id": "a47ba19e-0ff1-4721-ba86-6ebf7d4f23fe",
   "metadata": {},
   "outputs": [],
   "source": [
    "Continuation with list datatype:\n",
    "Organizing the list data types "
   ]
  },
  {
   "cell_type": "code",
   "execution_count": 4,
   "id": "1e6b2511-843e-4ad8-8cbd-1eaade2068a0",
   "metadata": {},
   "outputs": [
    {
     "name": "stdout",
     "output_type": "stream",
     "text": [
      "['bmw', 'tata', 'suzuki', 'audi', 'toyota', 'benz']\n"
     ]
    }
   ],
   "source": [
    "Cars= ['bmw','tata','suzuki','audi','toyota','benz']\n",
    "print (Cars)"
   ]
  },
  {
   "cell_type": "code",
   "execution_count": 7,
   "id": "60f5125c-b68c-415e-a990-40a33eac2f7e",
   "metadata": {},
   "outputs": [
    {
     "data": {
      "text/plain": [
       "list"
      ]
     },
     "execution_count": 7,
     "metadata": {},
     "output_type": "execute_result"
    }
   ],
   "source": [
    "type(Cars)"
   ]
  },
  {
   "cell_type": "code",
   "execution_count": null,
   "id": "caf5d7c7-ed8c-4254-8f7e-60ccc760dccd",
   "metadata": {},
   "outputs": [],
   "source": [
    "#req: i want to organize the list in alphabatic order  A,B,C,D\n",
    "    there are 2 approaches:\n",
    "        1.temporary approach ----> sorted method\n",
    "        2.permanent approach ----> sort method\n"
   ]
  },
  {
   "cell_type": "code",
   "execution_count": 10,
   "id": "bfa248d7-beb6-4342-9885-0cfacd455629",
   "metadata": {},
   "outputs": [
    {
     "name": "stdout",
     "output_type": "stream",
     "text": [
      "['bmw', 'tata', 'suzuki', 'audi', 'toyota', 'benz']\n"
     ]
    }
   ],
   "source": [
    "print(Cars)"
   ]
  },
  {
   "cell_type": "code",
   "execution_count": 11,
   "id": "9b53a4de-307b-4424-81cd-6d9833b8303c",
   "metadata": {},
   "outputs": [
    {
     "name": "stdout",
     "output_type": "stream",
     "text": [
      "['audi', 'benz', 'bmw', 'suzuki', 'tata', 'toyota']\n"
     ]
    }
   ],
   "source": [
    "print(sorted(Cars))"
   ]
  },
  {
   "cell_type": "code",
   "execution_count": 18,
   "id": "e97beb04-92df-4f4a-b26f-6c08f2584e6c",
   "metadata": {},
   "outputs": [
    {
     "name": "stdout",
     "output_type": "stream",
     "text": [
      "['audi', 'benz', 'bmw', 'suzuki', 'tata', 'toyota']\n"
     ]
    }
   ],
   "source": [
    "Cars.sort( )\n",
    "print(Cars)"
   ]
  },
  {
   "cell_type": "code",
   "execution_count": 19,
   "id": "18b4968d-be69-491f-b6bf-18673a91cd2b",
   "metadata": {},
   "outputs": [
    {
     "data": {
      "text/plain": [
       "6"
      ]
     },
     "execution_count": 19,
     "metadata": {},
     "output_type": "execute_result"
    }
   ],
   "source": [
    "#req count the number of elements in the list;\n",
    "len(Cars)"
   ]
  },
  {
   "cell_type": "code",
   "execution_count": 21,
   "id": "e0783b3e-bd04-40e4-b4ab-8a8e0c9ce4f9",
   "metadata": {},
   "outputs": [
    {
     "name": "stdout",
     "output_type": "stream",
     "text": [
      "['audi', 'benz', 'bmw', 'suzuki', 'tata', 'toyota']\n"
     ]
    }
   ],
   "source": [
    "#req: print the list in the ascending order or desending order A-Z or Z-A;\n",
    "Cars.reverse()\n",
    "print(Cars)"
   ]
  },
  {
   "cell_type": "code",
   "execution_count": null,
   "id": "52120cf4-87f3-4118-9413-b06a99d42d5e",
   "metadata": {},
   "outputs": [],
   "source": [
    "Introduction to slicing...\n"
   ]
  },
  {
   "cell_type": "code",
   "execution_count": 22,
   "id": "f7b06912-60b4-4e84-b379-c52c61340b1a",
   "metadata": {},
   "outputs": [
    {
     "name": "stdout",
     "output_type": "stream",
     "text": [
      "['anika', 'arpita', 'bhushan', 'bhanu', 'chandra', 'cindrela', 'dereck']\n"
     ]
    }
   ],
   "source": [
    "students=['anika','arpita','bhushan','bhanu','chandra','cindrela','dereck']\n",
    "print(students)"
   ]
  },
  {
   "cell_type": "code",
   "execution_count": 23,
   "id": "0d59d325-945d-4b90-a42a-eb1b63e1a077",
   "metadata": {},
   "outputs": [
    {
     "name": "stdout",
     "output_type": "stream",
     "text": [
      "['anika']\n"
     ]
    }
   ],
   "source": [
    "#req: how to include arpita and anika in the slicing list;\n",
    "print(students[0:1])"
   ]
  },
  {
   "cell_type": "code",
   "execution_count": 26,
   "id": "0a63bdfe-2a03-4bb0-b7a7-9c2c604c98e1",
   "metadata": {},
   "outputs": [
    {
     "name": "stdout",
     "output_type": "stream",
     "text": [
      "['anika', 'arpita']\n"
     ]
    }
   ],
   "source": [
    "print(students[0:2])"
   ]
  },
  {
   "cell_type": "code",
   "execution_count": 29,
   "id": "17f2aab7-8530-4bbe-9c68-1dfb790a2f71",
   "metadata": {},
   "outputs": [
    {
     "name": "stdout",
     "output_type": "stream",
     "text": [
      "['arpita', 'bhushan', 'bhanu']\n"
     ]
    }
   ],
   "source": [
    "print(students[1:4])"
   ]
  },
  {
   "cell_type": "code",
   "execution_count": 30,
   "id": "c6d2b6d9-7448-4045-9267-1fd1986c6140",
   "metadata": {},
   "outputs": [
    {
     "name": "stdout",
     "output_type": "stream",
     "text": [
      "['bhushan', 'bhanu']\n"
     ]
    }
   ],
   "source": [
    "print(students[2:4])"
   ]
  },
  {
   "cell_type": "code",
   "execution_count": 32,
   "id": "f1eca654-ace2-4cd0-954b-d118a30c619a",
   "metadata": {},
   "outputs": [
    {
     "name": "stdout",
     "output_type": "stream",
     "text": [
      "['anika', 'bhushan', 'chandra']\n"
     ]
    }
   ],
   "source": [
    "print(students[0:5:2])"
   ]
  },
  {
   "cell_type": "code",
   "execution_count": 33,
   "id": "c47c1830-5bc9-4d04-8e0b-07c35bcf1405",
   "metadata": {},
   "outputs": [
    {
     "name": "stdout",
     "output_type": "stream",
     "text": [
      "['anika', 'bhushan', 'chandra', 'dereck']\n"
     ]
    }
   ],
   "source": [
    "print(students[0:7:2])"
   ]
  },
  {
   "cell_type": "code",
   "execution_count": 35,
   "id": "c7623065-a953-46fc-8424-b1a402097e4e",
   "metadata": {},
   "outputs": [
    {
     "name": "stdout",
     "output_type": "stream",
     "text": [
      "['anika', 'bhanu', 'dereck']\n"
     ]
    }
   ],
   "source": [
    "print(students[0:9:3])"
   ]
  },
  {
   "cell_type": "raw",
   "id": "17752b3f-47ab-4ba5-a0e2-ee78a7a2e159",
   "metadata": {},
   "source": [
    "Introduction to tuple datatypes"
   ]
  },
  {
   "cell_type": "code",
   "execution_count": 37,
   "id": "5bbe20bf-b413-4f4a-850e-e73e43709782",
   "metadata": {},
   "outputs": [
    {
     "name": "stdout",
     "output_type": "stream",
     "text": [
      "(20, 50)\n"
     ]
    }
   ],
   "source": [
    "dimensions=(20,50)\n",
    "print (dimensions)"
   ]
  },
  {
   "cell_type": "code",
   "execution_count": 38,
   "id": "5fac4d75-2be4-47af-8ca2-5b1f1e35dfdb",
   "metadata": {},
   "outputs": [
    {
     "data": {
      "text/plain": [
       "tuple"
      ]
     },
     "execution_count": 38,
     "metadata": {},
     "output_type": "execute_result"
    }
   ],
   "source": [
    "type(dimensions)"
   ]
  },
  {
   "cell_type": "code",
   "execution_count": 39,
   "id": "b1154cb7-2dd0-4ca8-be0c-42e44f6d775f",
   "metadata": {},
   "outputs": [
    {
     "name": "stdout",
     "output_type": "stream",
     "text": [
      "50\n"
     ]
    }
   ],
   "source": [
    "print(dimensions[1])"
   ]
  },
  {
   "cell_type": "code",
   "execution_count": null,
   "id": "f55d7878-ba31-40c0-947b-8ec519040dba",
   "metadata": {},
   "outputs": [],
   "source": []
  }
 ],
 "metadata": {
  "kernelspec": {
   "display_name": "Python 3 (ipykernel)",
   "language": "python",
   "name": "python3"
  },
  "language_info": {
   "codemirror_mode": {
    "name": "ipython",
    "version": 3
   },
   "file_extension": ".py",
   "mimetype": "text/x-python",
   "name": "python",
   "nbconvert_exporter": "python",
   "pygments_lexer": "ipython3",
   "version": "3.13.5"
  }
 },
 "nbformat": 4,
 "nbformat_minor": 5
}
