{
 "cells": [
  {
   "cell_type": "code",
   "execution_count": null,
   "id": "08e8f6f9-1e63-4c27-b82b-5e4d2e733ba4",
   "metadata": {},
   "outputs": [],
   "source": [
    "Introduction to conditional statements:\n",
    "if statements:"
   ]
  },
  {
   "cell_type": "code",
   "execution_count": 5,
   "id": "45cc3d71-9815-4d7f-8c96-173e0a3da550",
   "metadata": {},
   "outputs": [
    {
     "name": "stdout",
     "output_type": "stream",
     "text": [
      "['audi', 'bmw', 'hyundai', 'toyota', 'kia', 'suzuki', 'maruthi']\n"
     ]
    }
   ],
   "source": [
    "cars = ['audi','bmw','hyundai','toyota','kia','suzuki','maruthi']\n",
    "print(cars)"
   ]
  },
  {
   "cell_type": "code",
   "execution_count": 6,
   "id": "0767cc6a-73cb-445c-a5e7-39717aeb6fef",
   "metadata": {},
   "outputs": [
    {
     "data": {
      "text/plain": [
       "list"
      ]
     },
     "execution_count": 6,
     "metadata": {},
     "output_type": "execute_result"
    }
   ],
   "source": [
    "type(cars)"
   ]
  },
  {
   "cell_type": "code",
   "execution_count": null,
   "id": "9b87583b-3aa9-4f36-b6f7-2e7317f150bd",
   "metadata": {},
   "outputs": [],
   "source": [
    "#req: I want to get all the cars printed in the title case...."
   ]
  },
  {
   "cell_type": "code",
   "execution_count": 12,
   "id": "784f0352-2a0d-45c4-97d5-428eba83bb85",
   "metadata": {},
   "outputs": [
    {
     "name": "stdout",
     "output_type": "stream",
     "text": [
      "Audi\n",
      "Bmw\n",
      "Hyundai\n",
      "Toyota\n",
      "Kia\n",
      "SUZUKI\n",
      "Maruthi\n"
     ]
    }
   ],
   "source": [
    "for a in cars:\n",
    "    if a =='suzuki':\n",
    "        print(a.upper())\n",
    "    else:\n",
    "        print(a.title())"
   ]
  },
  {
   "cell_type": "code",
   "execution_count": 13,
   "id": "c97d91f8-723b-45f8-b15c-1c4dbd380d2d",
   "metadata": {},
   "outputs": [],
   "source": [
    "#req: Building an voting application.."
   ]
  },
  {
   "cell_type": "code",
   "execution_count": 14,
   "id": "027e51e2-7ca8-4661-8727-9068deea7c75",
   "metadata": {},
   "outputs": [
    {
     "data": {
      "text/plain": [
       "int"
      ]
     },
     "execution_count": 14,
     "metadata": {},
     "output_type": "execute_result"
    }
   ],
   "source": [
    "age= 19\n",
    "type(age)"
   ]
  },
  {
   "cell_type": "code",
   "execution_count": 21,
   "id": "fb3e2f5f-e17f-4b98-a24e-58858626702c",
   "metadata": {},
   "outputs": [
    {
     "name": "stdout",
     "output_type": "stream",
     "text": [
      "you are not eligible to vote,try next year\n"
     ]
    }
   ],
   "source": [
    "if age >= 18:\n",
    "    print('you are eleigible to vote')\n",
    "else:\n",
    "    print('you are not eligible to vote,try next year')"
   ]
  },
  {
   "cell_type": "code",
   "execution_count": 20,
   "id": "8c274c96-7120-440a-b00a-e5e3aaa1937c",
   "metadata": {},
   "outputs": [
    {
     "name": "stdin",
     "output_type": "stream",
     "text": [
      "how old are you? 9\n"
     ]
    },
    {
     "name": "stdout",
     "output_type": "stream",
     "text": [
      "you are not eligible to vote,try next year\n"
     ]
    }
   ],
   "source": [
    "age=input(\"how old are you?\")\n",
    "age=int(age)    #i am converting the string o=into integer..\n",
    "if age >= 18:\n",
    "    print('you are eleigible to vote')\n",
    "else:\n",
    "    print('you are not eligible to vote,try next year')"
   ]
  },
  {
   "cell_type": "code",
   "execution_count": 16,
   "id": "d297dbd8-7833-4387-aa95-4fb7f52a6397",
   "metadata": {},
   "outputs": [
    {
     "name": "stdin",
     "output_type": "stream",
     "text": [
      "Tell me something and I will repeat it back for you!! Have a beautiful day!!\n"
     ]
    },
    {
     "name": "stdout",
     "output_type": "stream",
     "text": [
      "Have a beautiful day!!\n"
     ]
    }
   ],
   "source": [
    "#undersatnding the concept of user input:\n",
    "message = input('Tell me something and I will repeat it back for you!!')\n",
    "print (message)"
   ]
  },
  {
   "cell_type": "code",
   "execution_count": 17,
   "id": "ee37b2e0-093c-4f2e-8e37-89184192924f",
   "metadata": {},
   "outputs": [
    {
     "name": "stdin",
     "output_type": "stream",
     "text": [
      "please enter your name: Aakifa\n"
     ]
    },
    {
     "name": "stdout",
     "output_type": "stream",
     "text": [
      "\n",
      " Hello,Aakifa!\n"
     ]
    }
   ],
   "source": [
    "#I want to greet the user based on the input...\n",
    "name = input('please enter your name:')\n",
    "print(f\"\\n Hello,{name}!\")"
   ]
  },
  {
   "cell_type": "code",
   "execution_count": null,
   "id": "e1d097a1-8afa-42fa-bc69-411747b9d1ef",
   "metadata": {},
   "outputs": [],
   "source": [
    "#req: If given a number by the user, I want to find whether its even or odd.."
   ]
  },
  {
   "cell_type": "code",
   "execution_count": 24,
   "id": "1e0db8c2-65b5-492d-8b39-79cf999101a8",
   "metadata": {},
   "outputs": [
    {
     "name": "stdin",
     "output_type": "stream",
     "text": [
      "Enter a number,I will tell you its oven or odd!! 95\n"
     ]
    },
    {
     "name": "stdout",
     "output_type": "stream",
     "text": [
      "\n",
      " the number 95 is odd.\n"
     ]
    }
   ],
   "source": [
    "number = input(\"Enter a number,I will tell you its oven or odd!!\")\n",
    "number = int(number)\n",
    "\n",
    "if number == 0:\n",
    "    print(f\"\\n the number {number} is even.\")\n",
    "else:\n",
    "    print(f\"\\n the number {number} is odd.\")"
   ]
  },
  {
   "cell_type": "code",
   "execution_count": null,
   "id": "cc70f8d0-9af3-464d-8bc6-e422951b33f7",
   "metadata": {},
   "outputs": [],
   "source": []
  }
 ],
 "metadata": {
  "kernelspec": {
   "display_name": "Python [conda env:base] *",
   "language": "python",
   "name": "conda-base-py"
  },
  "language_info": {
   "codemirror_mode": {
    "name": "ipython",
    "version": 3
   },
   "file_extension": ".py",
   "mimetype": "text/x-python",
   "name": "python",
   "nbconvert_exporter": "python",
   "pygments_lexer": "ipython3",
   "version": "3.13.5"
  }
 },
 "nbformat": 4,
 "nbformat_minor": 5
}
