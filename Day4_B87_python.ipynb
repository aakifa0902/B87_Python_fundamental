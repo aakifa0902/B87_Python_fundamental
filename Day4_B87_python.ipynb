{
 "cells": [
  {
   "cell_type": "code",
   "execution_count": null,
   "id": "87629d52-2af2-4ff6-a844-391dafcbda85",
   "metadata": {},
   "outputs": [],
   "source": [
    "Introduction to Datatypes\n"
   ]
  },
  {
   "cell_type": "code",
   "execution_count": 6,
   "id": "2eb901bf-ec8d-4d4e-a3e2-d764a9e78551",
   "metadata": {},
   "outputs": [
    {
     "data": {
      "text/plain": [
       "int"
      ]
     },
     "execution_count": 6,
     "metadata": {},
     "output_type": "execute_result"
    }
   ],
   "source": [
    "type(number)\n"
   ]
  },
  {
   "cell_type": "code",
   "execution_count": 3,
   "id": "cbac9dae-60e7-4f6f-8382-d9d107d0c245",
   "metadata": {},
   "outputs": [
    {
     "name": "stdout",
     "output_type": "stream",
     "text": [
      "123\n"
     ]
    }
   ],
   "source": [
    "number = 123\n",
    "print(number)"
   ]
  },
  {
   "cell_type": "code",
   "execution_count": 4,
   "id": "7094d1a9-26a9-4d34-84e6-63436c32e0d2",
   "metadata": {},
   "outputs": [
    {
     "name": "stdout",
     "output_type": "stream",
     "text": [
      "123\n"
     ]
    }
   ],
   "source": [
    "num2 = 0.1\n",
    "print(number)"
   ]
  },
  {
   "cell_type": "code",
   "execution_count": 5,
   "id": "585a453b-8b98-4b9c-8e72-19a8577ee846",
   "metadata": {},
   "outputs": [
    {
     "data": {
      "text/plain": [
       "float"
      ]
     },
     "execution_count": 5,
     "metadata": {},
     "output_type": "execute_result"
    }
   ],
   "source": [
    "type(num2)"
   ]
  },
  {
   "cell_type": "code",
   "execution_count": 8,
   "id": "fcb5e28b-0693-418c-85ef-7183f88a463a",
   "metadata": {},
   "outputs": [
    {
     "name": "stdout",
     "output_type": "stream",
     "text": [
      "['arpita', 'ashwin', 'area', 'bhavani', 'karthik']\n"
     ]
    }
   ],
   "source": [
    "\n",
    "student = ['arpita','ashwin','area','bhavani','karthik']\n",
    "print(student)\n"
   ]
  },
  {
   "cell_type": "code",
   "execution_count": 9,
   "id": "aaaf8296-a83a-4eef-86cf-4afe70c05331",
   "metadata": {},
   "outputs": [
    {
     "data": {
      "text/plain": [
       "list"
      ]
     },
     "execution_count": 9,
     "metadata": {},
     "output_type": "execute_result"
    }
   ],
   "source": [
    "type(student)"
   ]
  },
  {
   "cell_type": "code",
   "execution_count": 10,
   "id": "3197c846-9cc3-4e5e-91f7-5f6a6ca9ad67",
   "metadata": {},
   "outputs": [
    {
     "name": "stdout",
     "output_type": "stream",
     "text": [
      "ashwin\n"
     ]
    }
   ],
   "source": [
    "print(student[1])"
   ]
  },
  {
   "cell_type": "code",
   "execution_count": 15,
   "id": "2b7e477b-4fb3-4df9-8401-3ce792ec1f0e",
   "metadata": {},
   "outputs": [
    {
     "data": {
      "text/plain": [
       "list"
      ]
     },
     "execution_count": 15,
     "metadata": {},
     "output_type": "execute_result"
    }
   ],
   "source": [
    "type(student)"
   ]
  },
  {
   "cell_type": "code",
   "execution_count": 16,
   "id": "54bcbfa8-1afd-4b85-9f8c-5eb4a4be3689",
   "metadata": {},
   "outputs": [
    {
     "name": "stdout",
     "output_type": "stream",
     "text": [
      "['arpita', 'ashwin', 'area', 'bhavani', 'karthik']\n"
     ]
    }
   ],
   "source": [
    "print(student)"
   ]
  },
  {
   "cell_type": "code",
   "execution_count": 17,
   "id": "a92499ae-4fbd-4c3c-b245-ce7886f48241",
   "metadata": {},
   "outputs": [
    {
     "name": "stdout",
     "output_type": "stream",
     "text": [
      "Ashwin\n"
     ]
    }
   ],
   "source": [
    "print(student[1].title())"
   ]
  },
  {
   "cell_type": "code",
   "execution_count": 18,
   "id": "1fcfd454-abfe-46f6-b96b-777922b19fae",
   "metadata": {},
   "outputs": [
    {
     "name": "stdout",
     "output_type": "stream",
     "text": [
      "['arpita', 'ashwin', 'area', 'bhavani', 'karthik']\n"
     ]
    }
   ],
   "source": [
    "print(student)"
   ]
  },
  {
   "cell_type": "code",
   "execution_count": 28,
   "id": "6e993249-f70e-49cf-96fb-861f67acf50c",
   "metadata": {},
   "outputs": [],
   "source": [
    "#req- adding student name in the list...."
   ]
  },
  {
   "cell_type": "code",
   "execution_count": 32,
   "id": "87ae0713-1569-41d6-a9c0-012ff33f35fa",
   "metadata": {},
   "outputs": [
    {
     "name": "stdout",
     "output_type": "stream",
     "text": [
      "['arpita', 'ashwin', 'area', 'bhavani', 'karthik', 'shafi', 'shafi']\n"
     ]
    }
   ],
   "source": [
    "student.append ('shafi')\n",
    "print(student)"
   ]
  },
  {
   "cell_type": "code",
   "execution_count": 34,
   "id": "1f4c841a-d36d-4f3b-9fee-486f8757f931",
   "metadata": {},
   "outputs": [
    {
     "name": "stdout",
     "output_type": "stream",
     "text": [
      "['arpita', 'ashwin', 'area', 'bhavani', 'karthik', 'shafi', 'shafi', 'venkat', 'venkat']\n"
     ]
    }
   ],
   "source": [
    "student.append ('venkat')\n",
    "print(student)"
   ]
  },
  {
   "cell_type": "code",
   "execution_count": 35,
   "id": "8035b65a-2eed-4b36-831b-5f752481a43b",
   "metadata": {},
   "outputs": [],
   "source": [
    "#req- want to add kaleem in the 2nd position..."
   ]
  },
  {
   "cell_type": "code",
   "execution_count": 37,
   "id": "cbdacfbc-0f3a-4f47-b359-333ea217d75a",
   "metadata": {},
   "outputs": [
    {
     "name": "stdout",
     "output_type": "stream",
     "text": [
      "kaleem\n"
     ]
    }
   ],
   "source": [
    "student.insert(2,'kaleem')\n",
    "print(student[2])"
   ]
  },
  {
   "cell_type": "code",
   "execution_count": 39,
   "id": "0cac2197-91ef-480a-9e76-95c99405766c",
   "metadata": {},
   "outputs": [
    {
     "name": "stdout",
     "output_type": "stream",
     "text": [
      "['arpita', 'ashwin', 'kaleem', 'kaleem', 'area', 'bhavani', 'karthik', 'shafi', 'shafi', 'venkat', 'venkat']\n"
     ]
    }
   ],
   "source": [
    "print(student)"
   ]
  },
  {
   "cell_type": "code",
   "execution_count": 40,
   "id": "b79dff6d-56a0-4a02-92d1-f7cd13ab809d",
   "metadata": {},
   "outputs": [],
   "source": [
    "#req- want to modify arpita name to anand...."
   ]
  },
  {
   "cell_type": "code",
   "execution_count": 43,
   "id": "e62eb09c-017d-42d9-9f87-3cf3599137ba",
   "metadata": {},
   "outputs": [
    {
     "name": "stdout",
     "output_type": "stream",
     "text": [
      "['anand', 'ashwin', 'kaleem', 'kaleem', 'area', 'bhavani', 'karthik', 'shafi', 'shafi', 'venkat', 'venkat']\n"
     ]
    }
   ],
   "source": [
    "student[0]='anand'\n",
    "print(student)"
   ]
  },
  {
   "cell_type": "code",
   "execution_count": 44,
   "id": "20b9b315-ff36-4c3a-8063-0aadc7bbc853",
   "metadata": {},
   "outputs": [],
   "source": [
    "#req- want to delete ashwin name in the lisy...."
   ]
  },
  {
   "cell_type": "code",
   "execution_count": 45,
   "id": "a275959b-6dd2-4c89-b59c-2179d84c6b11",
   "metadata": {},
   "outputs": [
    {
     "name": "stdout",
     "output_type": "stream",
     "text": [
      "['anand', 'kaleem', 'kaleem', 'area', 'bhavani', 'karthik', 'shafi', 'shafi', 'venkat', 'venkat']\n"
     ]
    }
   ],
   "source": [
    "del student[1]\n",
    "print(student)"
   ]
  }
 ],
 "metadata": {
  "kernelspec": {
   "display_name": "Python 3 (ipykernel)",
   "language": "python",
   "name": "python3"
  },
  "language_info": {
   "codemirror_mode": {
    "name": "ipython",
    "version": 3
   },
   "file_extension": ".py",
   "mimetype": "text/x-python",
   "name": "python",
   "nbconvert_exporter": "python",
   "pygments_lexer": "ipython3",
   "version": "3.13.5"
  }
 },
 "nbformat": 4,
 "nbformat_minor": 5
}
