{
 "cells": [
  {
   "cell_type": "code",
   "execution_count": null,
   "id": "bd98edb7-8caf-4805-b5ea-94e445e7861b",
   "metadata": {},
   "outputs": [],
   "source": [
    "Introduction to looping statements"
   ]
  },
  {
   "cell_type": "code",
   "execution_count": 3,
   "id": "8570cdca-1dba-4fcb-9810-4923ecea07a0",
   "metadata": {},
   "outputs": [
    {
     "name": "stdout",
     "output_type": "stream",
     "text": [
      "['durga', 'dinesh', 'kavya', 'noor', 'roza', 'abid', 'joseph']\n"
     ]
    }
   ],
   "source": [
    "students=['durga','dinesh','kavya','noor','roza','abid','joseph']\n",
    "print(students)"
   ]
  },
  {
   "cell_type": "code",
   "execution_count": null,
   "id": "c5cca4e4-472b-444a-b4c9-7defebb12952",
   "metadata": {},
   "outputs": [],
   "source": [
    "Introduction to forloop...  \n",
    "#general syntax of for loop:\n",
    "    for tempvar in mainvar:\n",
    "        print(tempvar)"
   ]
  },
  {
   "cell_type": "code",
   "execution_count": 5,
   "id": "d1e39474-c197-400b-ba82-968a1e00672d",
   "metadata": {},
   "outputs": [
    {
     "name": "stdout",
     "output_type": "stream",
     "text": [
      "keep up the good work,Durga\n",
      "keep up the good work,Dinesh\n",
      "keep up the good work,Kavya\n",
      "keep up the good work,Noor\n",
      "keep up the good work,Roza\n",
      "keep up the good work,Abid\n",
      "keep up the good work,Joseph\n"
     ]
    }
   ],
   "source": [
    "for a in students:\n",
    "    print(f\"keep up the good work,{a.title()}\")"
   ]
  },
  {
   "cell_type": "code",
   "execution_count": 6,
   "id": "7007cc86-1c4e-4c23-9c3c-30a18581024f",
   "metadata": {},
   "outputs": [
    {
     "name": "stdout",
     "output_type": "stream",
     "text": [
      "durga\n",
      "dinesh\n",
      "kavya\n",
      "noor\n",
      "roza\n",
      "abid\n",
      "joseph\n"
     ]
    }
   ],
   "source": [
    "for a in students:\n",
    "    print(a)"
   ]
  },
  {
   "cell_type": "code",
   "execution_count": 8,
   "id": "f08788cc-400c-4417-be00-e0e5d13e074f",
   "metadata": {},
   "outputs": [
    {
     "name": "stdout",
     "output_type": "stream",
     "text": [
      "keep up the good work,Durga\n",
      "i am waiting to review your submission of today,Durga\n",
      "\n",
      "keep up the good work,Dinesh\n",
      "i am waiting to review your submission of today,Dinesh\n",
      "\n",
      "keep up the good work,Kavya\n",
      "i am waiting to review your submission of today,Kavya\n",
      "\n",
      "keep up the good work,Noor\n",
      "i am waiting to review your submission of today,Noor\n",
      "\n",
      "keep up the good work,Roza\n",
      "i am waiting to review your submission of today,Roza\n",
      "\n",
      "keep up the good work,Abid\n",
      "i am waiting to review your submission of today,Abid\n",
      "\n",
      "keep up the good work,Joseph\n",
      "i am waiting to review your submission of today,Joseph\n",
      "\n",
      "thankyou for attending the python session\n"
     ]
    }
   ],
   "source": [
    "for a in students:\n",
    "    print(f\"keep up the good work,{a.title()}\")\n",
    "    print(f\"i am waiting to review your submission of today,{a.title()}\\n\")\n",
    "print(\"thankyou for attending the python session\")"
   ]
  },
  {
   "cell_type": "code",
   "execution_count": 12,
   "id": "ef837295-e52f-4b46-9942-cb1d140fc56a",
   "metadata": {},
   "outputs": [
    {
     "ename": "TypeError",
     "evalue": "str.title() takes no arguments (1 given)",
     "output_type": "error",
     "traceback": [
      "\u001b[1;31m---------------------------------------------------------------------------\u001b[0m",
      "\u001b[1;31mTypeError\u001b[0m                                 Traceback (most recent call last)",
      "Cell \u001b[1;32mIn[12], line 2\u001b[0m\n\u001b[0;32m      1\u001b[0m \u001b[38;5;28;01mfor\u001b[39;00m a \u001b[38;5;129;01min\u001b[39;00m students:\n\u001b[1;32m----> 2\u001b[0m     \u001b[38;5;28mprint\u001b[39m(\u001b[38;5;124mf\u001b[39m\u001b[38;5;124m\"\u001b[39m\u001b[38;5;124mkeep up the good work,\u001b[39m\u001b[38;5;132;01m{\u001b[39;00ma\u001b[38;5;241m.\u001b[39mtitle(\u001b[38;5;241m1\u001b[39m)\u001b[38;5;132;01m}\u001b[39;00m\u001b[38;5;124m\"\u001b[39m)\n\u001b[0;32m      3\u001b[0m     \u001b[38;5;28mprint\u001b[39m(\u001b[38;5;124mf\u001b[39m\u001b[38;5;124m\"\u001b[39m\u001b[38;5;124mi am waiting to review your submission of today,\u001b[39m\u001b[38;5;132;01m{\u001b[39;00ma\u001b[38;5;241m.\u001b[39mtitle()\u001b[38;5;132;01m}\u001b[39;00m\u001b[38;5;130;01m\\n\u001b[39;00m\u001b[38;5;124m\"\u001b[39m)\n\u001b[0;32m      4\u001b[0m \u001b[38;5;28mprint\u001b[39m(\u001b[38;5;124m\"\u001b[39m\u001b[38;5;124mthankyou for attending the python session\u001b[39m\u001b[38;5;124m\"\u001b[39m)\n",
      "\u001b[1;31mTypeError\u001b[0m: str.title() takes no arguments (1 given)"
     ]
    }
   ],
   "source": [
    "for a in students:\n",
    "    print(f\"keep up the good work,{a.title(1)}\")\n",
    "    print(f\"i am waiting to review your submission of today,{a.title()}\\n\")\n",
    "print(\"thankyou for attending the python session\")"
   ]
  },
  {
   "cell_type": "code",
   "execution_count": null,
   "id": "97043aa8-1204-425c-8ad1-7d84b45b5fa0",
   "metadata": {},
   "outputs": [],
   "source": []
  }
 ],
 "metadata": {
  "kernelspec": {
   "display_name": "Python [conda env:base] *",
   "language": "python",
   "name": "conda-base-py"
  },
  "language_info": {
   "codemirror_mode": {
    "name": "ipython",
    "version": 3
   },
   "file_extension": ".py",
   "mimetype": "text/x-python",
   "name": "python",
   "nbconvert_exporter": "python",
   "pygments_lexer": "ipython3",
   "version": "3.13.5"
  }
 },
 "nbformat": 4,
 "nbformat_minor": 5
}
