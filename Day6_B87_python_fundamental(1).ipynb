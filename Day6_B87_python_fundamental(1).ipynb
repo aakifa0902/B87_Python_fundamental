{
 "cells": [
  {
   "cell_type": "code",
   "execution_count": null,
   "id": "077c9550-dae3-448d-b337-8073c059bdcb",
   "metadata": {},
   "outputs": [],
   "source": [
    "Indroduction to Dictionaries:\n",
    "    Defination: A dictionary is the combination of Key and Valaue pairs\n",
    "    Classification: It is classified as a mutable datatypes.\n",
    "\n",
    "how to define the dictionaries: {} #culy brackets."
   ]
  },
  {
   "cell_type": "code",
   "execution_count": 1,
   "id": "fd36c781-19de-4e09-9899-6a8313e9c79c",
   "metadata": {},
   "outputs": [],
   "source": [
    "#req: I want to design a alien game."
   ]
  },
  {
   "cell_type": "code",
   "execution_count": 12,
   "id": "61c0b86f-522e-4720-94e0-29dabcc215a6",
   "metadata": {},
   "outputs": [
    {
     "name": "stdout",
     "output_type": "stream",
     "text": [
      "{'color': 'green', 'points': 5}\n"
     ]
    }
   ],
   "source": [
    "alien = {'color':'green','points':5}\n",
    "print(alien)"
   ]
  },
  {
   "cell_type": "code",
   "execution_count": 13,
   "id": "c7970026-ba2b-4f9e-ac8a-5fa59f6beee6",
   "metadata": {},
   "outputs": [
    {
     "data": {
      "text/plain": [
       "dict"
      ]
     },
     "execution_count": 13,
     "metadata": {},
     "output_type": "execute_result"
    }
   ],
   "source": [
    "type(alien)"
   ]
  },
  {
   "cell_type": "code",
   "execution_count": 1,
   "id": "8160676c-e6b8-4e8f-9308-da1a3d37616c",
   "metadata": {},
   "outputs": [],
   "source": [
    "#req: i want to start_position of the aliens"
   ]
  },
  {
   "cell_type": "code",
   "execution_count": 3,
   "id": "bbf9dc17-54cd-4bf3-941e-f0642090c866",
   "metadata": {},
   "outputs": [
    {
     "ename": "NameError",
     "evalue": "name 'alien' is not defined",
     "output_type": "error",
     "traceback": [
      "\u001b[1;31m---------------------------------------------------------------------------\u001b[0m",
      "\u001b[1;31mNameError\u001b[0m                                 Traceback (most recent call last)",
      "Cell \u001b[1;32mIn[3], line 1\u001b[0m\n\u001b[1;32m----> 1\u001b[0m alien[\u001b[38;5;124m'\u001b[39m\u001b[38;5;124mstart_position\u001b[39m\u001b[38;5;124m'\u001b[39m]\u001b[38;5;241m=\u001b[39m\u001b[38;5;124m'\u001b[39m\u001b[38;5;124mlevel\u001b[39m\u001b[38;5;124m'\u001b[39m\n\u001b[0;32m      2\u001b[0m \u001b[38;5;28mprint\u001b[39m(alien[\u001b[38;5;124m'\u001b[39m\u001b[38;5;124mcolor\u001b[39m\u001b[38;5;124m'\u001b[39m])\n",
      "\u001b[1;31mNameError\u001b[0m: name 'alien' is not defined"
     ]
    }
   ],
   "source": [
    "alien['start_position']='level'\n",
    "print(alien['color'])"
   ]
  },
  {
   "cell_type": "code",
   "execution_count": 4,
   "id": "e1ea2731-fdba-458d-a603-5da1a5fea913",
   "metadata": {},
   "outputs": [
    {
     "name": "stdout",
     "output_type": "stream",
     "text": [
      "{'color': 'green', 'points': 5, 'start_position': 'level'}\n",
      "green\n",
      "level\n"
     ]
    }
   ],
   "source": [
    "alien = {'color': 'green', 'points': 5}\n",
    "alien['start_position'] = 'level'\n",
    "\n",
    "print(alien)               # {'color': 'green', 'points': 5, 'start_position': 'level'}\n",
    "print(alien['color'])      # green\n",
    "print(alien['start_position'])  # level\n"
   ]
  },
  {
   "cell_type": "code",
   "execution_count": 5,
   "id": "a4cd5110-9c5b-43de-822f-f656ab971355",
   "metadata": {},
   "outputs": [],
   "source": [
    "#req: how to modify the key value pair...\n",
    "#req i want to modify the color of the alien from green to red...."
   ]
  },
  {
   "cell_type": "code",
   "execution_count": 6,
   "id": "fa4def71-d5b5-4328-8655-db65faab466a",
   "metadata": {},
   "outputs": [
    {
     "name": "stdout",
     "output_type": "stream",
     "text": [
      "{'color': 'red', 'points': 5, 'start_position': 'level'}\n"
     ]
    }
   ],
   "source": [
    "alien['color'] = 'red'\n",
    "print(alien)"
   ]
  },
  {
   "cell_type": "code",
   "execution_count": 7,
   "id": "288943da-eb77-41d7-bc02-7357b8dd6322",
   "metadata": {},
   "outputs": [],
   "source": [
    "#req: i want to create the facebook user_account.."
   ]
  },
  {
   "cell_type": "code",
   "execution_count": 8,
   "id": "080b5c7b-fa9e-4e45-b394-d580abd4b610",
   "metadata": {},
   "outputs": [
    {
     "name": "stdout",
     "output_type": "stream",
     "text": [
      "{'firstname': 'code', 'lastname': 'training', 'username': 'codetraining acaqdemy', 'dob': '01-01-2020', 'pwd': '54321'}\n"
     ]
    }
   ],
   "source": [
    "user_account = {'firstname':'code','lastname':'training','username':\"codetraining acaqdemy\",'dob':'01-01-2020','pwd':'54321'}\n",
    "print(user_account)"
   ]
  },
  {
   "cell_type": "code",
   "execution_count": 9,
   "id": "5893011a-0ec7-48e0-a7f0-a2d93964ad94",
   "metadata": {},
   "outputs": [],
   "source": [
    "#req: how to delete lastname..."
   ]
  },
  {
   "cell_type": "code",
   "execution_count": 10,
   "id": "064ff181-0874-4868-bba4-cbd6f9de76a6",
   "metadata": {},
   "outputs": [
    {
     "name": "stdout",
     "output_type": "stream",
     "text": [
      "{'firstname': 'code', 'username': 'codetraining acaqdemy', 'dob': '01-01-2020', 'pwd': '54321'}\n"
     ]
    }
   ],
   "source": [
    "del user_account['lastname']\n",
    "print(user_account)"
   ]
  },
  {
   "cell_type": "code",
   "execution_count": null,
   "id": "bbc23983-7786-4a4a-a07f-cad6fb4f97e1",
   "metadata": {},
   "outputs": [],
   "source": []
  }
 ],
 "metadata": {
  "kernelspec": {
   "display_name": "Python [conda env:base] *",
   "language": "python",
   "name": "conda-base-py"
  },
  "language_info": {
   "codemirror_mode": {
    "name": "ipython",
    "version": 3
   },
   "file_extension": ".py",
   "mimetype": "text/x-python",
   "name": "python",
   "nbconvert_exporter": "python",
   "pygments_lexer": "ipython3",
   "version": "3.13.5"
  }
 },
 "nbformat": 4,
 "nbformat_minor": 5
}
