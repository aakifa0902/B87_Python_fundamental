{
 "cells": [
  {
   "cell_type": "code",
   "execution_count": null,
   "id": "c91d200e-7141-40c4-94c7-d543757374cc",
   "metadata": {},
   "outputs": [],
   "source": [
    "Introduction to Python classes"
   ]
  },
  {
   "cell_type": "code",
   "execution_count": null,
   "id": "7f0c5d3a-aa90-4809-abfd-7afe7a4a0e30",
   "metadata": {},
   "outputs": [],
   "source": [
    "class - class is tghe high blue print of the program.\n",
    "methods - A function written inside the class is called a method.\n",
    "attribute - A variable written inside a class is called a attribute.\n",
    "objects/instances  An approach by using which we can be able to access the class is called method.\n",
    "self - its a temp place hold for an object.\n",
    "init - it is a special method/ magical method.\n",
    "OOps concept - Object oriented Programming\n"
   ]
  },
  {
   "cell_type": "code",
   "execution_count": 21,
   "id": "d7c6529b-43be-4870-894f-43b6d2c39a2b",
   "metadata": {},
   "outputs": [],
   "source": [
    "class Dog:    #this is a class declaration..\n",
    "    ''' A simple attempt to model a dog'''\n",
    "    def __init__(self,name,age):\n",
    "        self.name = name\n",
    "        self.age = age\n",
    "    def sit(self):     # this is a method..\n",
    "        print(f\"{self.name} is now sitting\")\n",
    "    def roll_over(self):\n",
    "        print(f\"{self.name} rolled over\")\n",
    "        \n",
    "        "
   ]
  },
  {
   "cell_type": "code",
   "execution_count": 26,
   "id": "e701d09f-5441-43bd-a271-011cfd5166a7",
   "metadata": {},
   "outputs": [
    {
     "name": "stdout",
     "output_type": "stream",
     "text": [
      "bruno is now sitting\n"
     ]
    }
   ],
   "source": [
    "my_dog = Dog('bruno',6)\n",
    "my_dog.sit()"
   ]
  },
  {
   "cell_type": "code",
   "execution_count": 27,
   "id": "92f88a95-646c-4567-b847-c669a73cecc8",
   "metadata": {},
   "outputs": [
    {
     "name": "stdout",
     "output_type": "stream",
     "text": [
      "bruno rolled over\n"
     ]
    }
   ],
   "source": [
    "my_dog.roll_over()"
   ]
  },
  {
   "cell_type": "code",
   "execution_count": 28,
   "id": "e597c941-4b0a-401f-8775-854413051396",
   "metadata": {},
   "outputs": [
    {
     "name": "stdout",
     "output_type": "stream",
     "text": [
      "tommy is now sitting\n"
     ]
    }
   ],
   "source": [
    "test = Dog('tommy',5)\n",
    "test.sit()"
   ]
  },
  {
   "cell_type": "code",
   "execution_count": 30,
   "id": "9712c340-cc57-4db1-9ddb-3762f0f9782c",
   "metadata": {},
   "outputs": [
    {
     "name": "stdout",
     "output_type": "stream",
     "text": [
      "tommy rolled over\n"
     ]
    }
   ],
   "source": [
    "test.roll_over()"
   ]
  },
  {
   "cell_type": "code",
   "execution_count": null,
   "id": "272f7575-9bf4-4798-b935-d002fee7a76f",
   "metadata": {},
   "outputs": [],
   "source": [
    "# class example -\n",
    "    #req design a dog class with its functionalities."
   ]
  },
  {
   "cell_type": "code",
   "execution_count": 14,
   "id": "356e6e2b-f0c3-4be9-bf11-367f897197f3",
   "metadata": {},
   "outputs": [],
   "source": [
    "class Car:\n",
    "    '''A simple attempt to represnt a car'''\n",
    "\n",
    "    def __init__(self,make,model,year):\n",
    "        '''initiatize the attribute to describe a car'''\n",
    "        self.make = make\n",
    "        self.model = model\n",
    "        self.year = year\n",
    "\n",
    "    def get_descriptive_name(self):\n",
    "        '''return a neatly formatted descriptive name'''\n",
    "        long_name = f\"{self.make} {self.model} {self.year}\"\n",
    "        return long_name.title()"
   ]
  },
  {
   "cell_type": "code",
   "execution_count": 15,
   "id": "bbdb32cc-383c-4ed4-ac77-8c89f42fd1c0",
   "metadata": {},
   "outputs": [
    {
     "name": "stdout",
     "output_type": "stream",
     "text": [
      "Audi A4 2010\n"
     ]
    }
   ],
   "source": [
    "my_new_car = Car('audi','a4',2010)\n",
    "print(my_new_car.get_descriptive_name())"
   ]
  },
  {
   "cell_type": "code",
   "execution_count": 16,
   "id": "7a7df97e-3c4b-4a22-8765-6d33ec928d2f",
   "metadata": {},
   "outputs": [
    {
     "name": "stdout",
     "output_type": "stream",
     "text": [
      "Audi A4 2010\n"
     ]
    }
   ],
   "source": [
    "print(my_new_car.get_descriptive_name())"
   ]
  },
  {
   "cell_type": "code",
   "execution_count": null,
   "id": "37996c74-3745-482f-a16d-0b4d4a21eeef",
   "metadata": {},
   "outputs": [],
   "source": []
  },
  {
   "cell_type": "code",
   "execution_count": null,
   "id": "64c3cc58-4734-4722-a40d-4acca6ad6fc9",
   "metadata": {},
   "outputs": [],
   "source": []
  }
 ],
 "metadata": {
  "kernelspec": {
   "display_name": "Python [conda env:base] *",
   "language": "python",
   "name": "conda-base-py"
  },
  "language_info": {
   "codemirror_mode": {
    "name": "ipython",
    "version": 3
   },
   "file_extension": ".py",
   "mimetype": "text/x-python",
   "name": "python",
   "nbconvert_exporter": "python",
   "pygments_lexer": "ipython3",
   "version": "3.13.5"
  }
 },
 "nbformat": 4,
 "nbformat_minor": 5
}
