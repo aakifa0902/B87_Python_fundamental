{
 "cells": [
  {
   "cell_type": "code",
   "execution_count": 1,
   "id": "3d55eb89-b011-4a67-a39c-ca7a60704934",
   "metadata": {},
   "outputs": [
    {
     "name": "stdout",
     "output_type": "stream",
     "text": [
      "I have a cat\n",
      "My cat's name is sweety\n"
     ]
    }
   ],
   "source": [
    "#req define a function with describe_pet which takestwo parameters: pet_name  and animal_type\n",
    "\n",
    "def describe_pet(animal_type,pet_name):\n",
    "    '''describe the info about the pet'''\n",
    "    print(f\"I have a {animal_type}\")\n",
    "    print(f\"My {animal_type}'s name is {pet_name}\")\n",
    "describe_pet(pet_name='sweety',animal_type='cat')    #keyword arguments"
   ]
  },
  {
   "cell_type": "code",
   "execution_count": 3,
   "id": "bc68c4d8-3362-4bbc-abcd-b5602c535f59",
   "metadata": {},
   "outputs": [
    {
     "name": "stdout",
     "output_type": "stream",
     "text": [
      "I have a dog\n",
      "My dog's name is rex\n"
     ]
    }
   ],
   "source": [
    "#req define a function with describe_pet which takestwo parameters: pet_name  and animal_type\n",
    "\n",
    "def describe_pet(pet_name,animal_type= 'dog'):\n",
    "    '''describe the info about the pet'''\n",
    "    print(f\"I have a {animal_type}\")\n",
    "    print(f\"My {animal_type}'s name is {pet_name}\")\n",
    "describe_pet('rex')    #default arguments"
   ]
  },
  {
   "cell_type": "code",
   "execution_count": 4,
   "id": "8a0ccafe-6c50-49cb-8dbf-45c556723665",
   "metadata": {},
   "outputs": [
    {
     "name": "stdout",
     "output_type": "stream",
     "text": [
      "I have a cat\n",
      "My cat's name is bruno\n"
     ]
    }
   ],
   "source": [
    "describe_pet('bruno','cat')"
   ]
  },
  {
   "cell_type": "code",
   "execution_count": 9,
   "id": "f337ba7e-af37-452e-bfed-e56ce204273c",
   "metadata": {},
   "outputs": [
    {
     "name": "stdout",
     "output_type": "stream",
     "text": [
      "Aakifa Salma\n"
     ]
    }
   ],
   "source": [
    "#Returning a simple value:\n",
    "#req: take a firstname and last name and neatly formatted to fullname...\n",
    "\n",
    "def get_formatted_name(first_name,last_name):\n",
    "    '''return afull name neatly formatted'''\n",
    "    full_name= f\"{first_name} {last_name}\"\n",
    "    return full_name.title()\n",
    "person = get_formatted_name('aakifa','salma')\n",
    "print(person)"
   ]
  },
  {
   "cell_type": "code",
   "execution_count": null,
   "id": "fd9b0231-06ce-4e50-bcf2-73345753e637",
   "metadata": {},
   "outputs": [],
   "source": [
    "Passing Arbitary no of arguments:"
   ]
  },
  {
   "cell_type": "code",
   "execution_count": 11,
   "id": "e44c1df9-5cc1-4acc-80db-85f4046a5df6",
   "metadata": {},
   "outputs": [],
   "source": [
    "def make_pizza(toppings):\n",
    "    '''print the list of toppings that has been requested'''\n",
    "make_pizza('olives')"
   ]
  },
  {
   "cell_type": "code",
   "execution_count": 14,
   "id": "172ad382-5fb0-4ed5-9da6-a899f34f45d5",
   "metadata": {},
   "outputs": [
    {
     "name": "stdout",
     "output_type": "stream",
     "text": [
      "('olives',)\n",
      "('olives', 'corns')\n",
      "('olives', 'corn', 'onion')\n"
     ]
    }
   ],
   "source": [
    "def make_pizza(*toppings):\n",
    "    print(toppings)\n",
    "make_pizza('olives')\n",
    "make_pizza('olives','corns')\n",
    "make_pizza('olives','corn','onion')"
   ]
  },
  {
   "cell_type": "code",
   "execution_count": 16,
   "id": "06ff0081-4bcf-4fc6-99d0-2746f04cf149",
   "metadata": {},
   "outputs": [
    {
     "ename": "SyntaxError",
     "evalue": "Missing parentheses in call to 'print'. Did you mean print(...)? (1597054010.py, line 4)",
     "output_type": "error",
     "traceback": [
      "\u001b[1;36m  Cell \u001b[1;32mIn[16], line 4\u001b[1;36m\u001b[0m\n\u001b[1;33m    print{f'-{a}'}\u001b[0m\n\u001b[1;37m    ^\u001b[0m\n\u001b[1;31mSyntaxError\u001b[0m\u001b[1;31m:\u001b[0m Missing parentheses in call to 'print'. Did you mean print(...)?\n"
     ]
    }
   ],
   "source": [
    "def make_pizza(*toppings):\n",
    "    print(\"\\n Making the pizza with the below toppings\")\n",
    "    for a in toppings:\n",
    "        print{f'-{a}'}\n",
    "make_pizza('olive','corn','onions')"
   ]
  },
  {
   "cell_type": "code",
   "execution_count": null,
   "id": "9d6166af-5436-4716-8306-14319794c55f",
   "metadata": {},
   "outputs": [],
   "source": []
  }
 ],
 "metadata": {
  "kernelspec": {
   "display_name": "Python [conda env:base] *",
   "language": "python",
   "name": "conda-base-py"
  },
  "language_info": {
   "codemirror_mode": {
    "name": "ipython",
    "version": 3
   },
   "file_extension": ".py",
   "mimetype": "text/x-python",
   "name": "python",
   "nbconvert_exporter": "python",
   "pygments_lexer": "ipython3",
   "version": "3.13.5"
  }
 },
 "nbformat": 4,
 "nbformat_minor": 5
}
