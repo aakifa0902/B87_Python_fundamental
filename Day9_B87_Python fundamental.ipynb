{
 "cells": [
  {
   "cell_type": "code",
   "execution_count": null,
   "id": "0633f17d-6d9f-43aa-9de0-2a3965090868",
   "metadata": {},
   "outputs": [],
   "source": [
    "Introduction to python functions:\n",
    "how to define a function: def\n",
    "for giving a function name use snmall case letters"
   ]
  },
  {
   "cell_type": "code",
   "execution_count": 4,
   "id": "13cd6653-1c8a-4df9-ae85-d3cb913b4498",
   "metadata": {},
   "outputs": [
    {
     "name": "stdout",
     "output_type": "stream",
     "text": [
      "Hello\n"
     ]
    }
   ],
   "source": [
    "def greet():   #this part is called as defined the function...\n",
    "    print('Hello')  # this function will greet the user #this is doc string...\n",
    "greet()   #function cell\n",
    "    "
   ]
  },
  {
   "cell_type": "code",
   "execution_count": 5,
   "id": "8674690a-b052-4621-8879-fc3c0edb905b",
   "metadata": {},
   "outputs": [
    {
     "name": "stdout",
     "output_type": "stream",
     "text": [
      "Hello\n"
     ]
    }
   ],
   "source": [
    "def greet_user():\n",
    "    '''Display a simple greeting'''\n",
    "    print('Hello')\n",
    "greet_user()"
   ]
  },
  {
   "cell_type": "code",
   "execution_count": 7,
   "id": "68783c3a-84f2-4a42-9820-98b938bf088d",
   "metadata": {},
   "outputs": [
    {
     "name": "stdout",
     "output_type": "stream",
     "text": [
      "Hello,Anil\n"
     ]
    }
   ],
   "source": [
    "def greet_user(username):    #parameters declaration...\n",
    "    print(f'Hello,{username.title()}')\n",
    "greet_user('anil')   #argument passing..."
   ]
  },
  {
   "cell_type": "code",
   "execution_count": 8,
   "id": "1248ae9d-efca-4589-b752-d30154091357",
   "metadata": {},
   "outputs": [
    {
     "name": "stdout",
     "output_type": "stream",
     "text": [
      "Hello,Arshad\n"
     ]
    }
   ],
   "source": [
    "greet_user('arshad')"
   ]
  },
  {
   "cell_type": "code",
   "execution_count": 9,
   "id": "a6c876cc-4086-421f-a63d-ef131c5c6ac9",
   "metadata": {},
   "outputs": [
    {
     "ename": "SyntaxError",
     "evalue": "invalid decimal literal (246256123.py, line 2)",
     "output_type": "error",
     "traceback": [
      "\u001b[1;36m  Cell \u001b[1;32mIn[9], line 2\u001b[1;36m\u001b[0m\n\u001b[1;33m    1.Position arguments\u001b[0m\n\u001b[1;37m     ^\u001b[0m\n\u001b[1;31mSyntaxError\u001b[0m\u001b[1;31m:\u001b[0m invalid decimal literal\n"
     ]
    }
   ],
   "source": [
    "Types of arguments:\n",
    "    1.Position arguments\n",
    "    2.Keyword arguments\n",
    "    3.arbitaryargument / default values\n",
    "Defining the functions:\n"
   ]
  },
  {
   "cell_type": "code",
   "execution_count": 11,
   "id": "50960583-3349-4832-8f4f-53b3d792a17b",
   "metadata": {},
   "outputs": [
    {
     "ename": "NameError",
     "evalue": "name 'animal_name' is not defined",
     "output_type": "error",
     "traceback": [
      "\u001b[1;31m---------------------------------------------------------------------------\u001b[0m",
      "\u001b[1;31mNameError\u001b[0m                                 Traceback (most recent call last)",
      "Cell \u001b[1;32mIn[11], line 7\u001b[0m\n\u001b[0;32m      5\u001b[0m     \u001b[38;5;28mprint\u001b[39m(\u001b[38;5;124mf\u001b[39m\u001b[38;5;124m\"\u001b[39m\u001b[38;5;130;01m\\n\u001b[39;00m\u001b[38;5;124m I have a \u001b[39m\u001b[38;5;132;01m{\u001b[39;00manimal_name\u001b[38;5;132;01m}\u001b[39;00m\u001b[38;5;124m\"\u001b[39m)\n\u001b[0;32m      6\u001b[0m     \u001b[38;5;28mprint\u001b[39m(\u001b[38;5;124mf\u001b[39m\u001b[38;5;124m\"\u001b[39m\u001b[38;5;124mmy \u001b[39m\u001b[38;5;132;01m{\u001b[39;00manimal_name\u001b[38;5;132;01m}\u001b[39;00m\u001b[38;5;124m'\u001b[39m\u001b[38;5;124ms name is \u001b[39m\u001b[38;5;132;01m{\u001b[39;00mpet_name\u001b[38;5;132;01m}\u001b[39;00m\u001b[38;5;124m\"\u001b[39m)\n\u001b[1;32m----> 7\u001b[0m describe_pet(\u001b[38;5;124m'\u001b[39m\u001b[38;5;124mdog\u001b[39m\u001b[38;5;124m'\u001b[39m,\u001b[38;5;124m'\u001b[39m\u001b[38;5;124mmuffin\u001b[39m\u001b[38;5;124m'\u001b[39m)\n",
      "Cell \u001b[1;32mIn[11], line 5\u001b[0m, in \u001b[0;36mdescribe_pet\u001b[1;34m(animal_type, pet_name)\u001b[0m\n\u001b[0;32m      3\u001b[0m \u001b[38;5;28;01mdef\u001b[39;00m\u001b[38;5;250m \u001b[39m\u001b[38;5;21mdescribe_pet\u001b[39m(animal_type,pet_name):\n\u001b[0;32m      4\u001b[0m \u001b[38;5;250m    \u001b[39m\u001b[38;5;124;03m'''describe the info about the pet'''\u001b[39;00m\n\u001b[1;32m----> 5\u001b[0m     \u001b[38;5;28mprint\u001b[39m(\u001b[38;5;124mf\u001b[39m\u001b[38;5;124m\"\u001b[39m\u001b[38;5;130;01m\\n\u001b[39;00m\u001b[38;5;124m I have a \u001b[39m\u001b[38;5;132;01m{\u001b[39;00manimal_name\u001b[38;5;132;01m}\u001b[39;00m\u001b[38;5;124m\"\u001b[39m)\n\u001b[0;32m      6\u001b[0m     \u001b[38;5;28mprint\u001b[39m(\u001b[38;5;124mf\u001b[39m\u001b[38;5;124m\"\u001b[39m\u001b[38;5;124mmy \u001b[39m\u001b[38;5;132;01m{\u001b[39;00manimal_name\u001b[38;5;132;01m}\u001b[39;00m\u001b[38;5;124m'\u001b[39m\u001b[38;5;124ms name is \u001b[39m\u001b[38;5;132;01m{\u001b[39;00mpet_name\u001b[38;5;132;01m}\u001b[39;00m\u001b[38;5;124m\"\u001b[39m)\n",
      "\u001b[1;31mNameError\u001b[0m: name 'animal_name' is not defined"
     ]
    }
   ],
   "source": [
    "#req define a function with describe_pet which takestwo parameters: pet_name  and animal_type\n",
    "\n",
    "def describe_pet(animal_type,pet_name):\n",
    "    '''describe the info about the pet'''\n",
    "    print(f\"\\n I have a {animal_name}\")\n",
    "    print(f\"my {animal_name}'s name is {pet_name}\")\n",
    "describe_pet('dog','muffin')   #position argument"
   ]
  },
  {
   "cell_type": "code",
   "execution_count": 15,
   "id": "19cc75e2-5539-4820-a36c-ca1426a882a1",
   "metadata": {},
   "outputs": [
    {
     "name": "stdout",
     "output_type": "stream",
     "text": [
      "I have a cat\n",
      "My cat's name is sweety\n"
     ]
    }
   ],
   "source": [
    "#req define a function with describe_pet which takestwo parameters: pet_name  and animal_type\n",
    "\n",
    "def describe_pet(animal_type,pet_name):\n",
    "    '''describe the info about the pet'''\n",
    "    print(f\"I have a {animal_type}\")\n",
    "    print(f\"My {animal_type}'s name is {pet_name}\")\n",
    "describe_pet(pet_name='sweety',animal_type='cat')    #keyword arguments"
   ]
  },
  {
   "cell_type": "code",
   "execution_count": null,
   "id": "b19753f8-c611-4832-a3e1-33d8f00072e0",
   "metadata": {},
   "outputs": [],
   "source": []
  }
 ],
 "metadata": {
  "kernelspec": {
   "display_name": "Python [conda env:base] *",
   "language": "python",
   "name": "conda-base-py"
  },
  "language_info": {
   "codemirror_mode": {
    "name": "ipython",
    "version": 3
   },
   "file_extension": ".py",
   "mimetype": "text/x-python",
   "name": "python",
   "nbconvert_exporter": "python",
   "pygments_lexer": "ipython3",
   "version": "3.13.5"
  }
 },
 "nbformat": 4,
 "nbformat_minor": 5
}
