{
 "cells": [
  {
   "cell_type": "code",
   "execution_count": null,
   "id": "a6cb9a02-88e3-4423-8968-75587cdba9d3",
   "metadata": {},
   "outputs": [],
   "source": [
    "Introduction to while loop:"
   ]
  },
  {
   "cell_type": "code",
   "execution_count": 3,
   "id": "69c4bbc4-fd31-43aa-abdf-6aa47d15efc0",
   "metadata": {},
   "outputs": [
    {
     "name": "stdout",
     "output_type": "stream",
     "text": [
      "Hello World\n",
      "Hello World\n",
      "Hello World\n",
      "Hello World\n"
     ]
    }
   ],
   "source": [
    "count = 0\n",
    "while (count < 4):\n",
    "    count = count +1  #logic implimentation\n",
    "    print(\"Hello World\")"
   ]
  },
  {
   "cell_type": "code",
   "execution_count": 7,
   "id": "21aa9ad7-5c88-410e-97a5-326492940814",
   "metadata": {},
   "outputs": [],
   "source": [
    "age = 28\n",
    "while age > 19:\n",
    "    print(\"Infinate Loop\")"
   ]
  },
  {
   "cell_type": "code",
   "execution_count": 5,
   "id": "b3643940-4587-470b-99a2-f82d72590637",
   "metadata": {},
   "outputs": [
    {
     "name": "stdout",
     "output_type": "stream",
     "text": [
      "Hello world\n"
     ]
    }
   ],
   "source": [
    "print(\"Hello world\")"
   ]
  },
  {
   "cell_type": "code",
   "execution_count": null,
   "id": "c5ea1b23-7fad-4f45-876c-12c7d15d2a86",
   "metadata": {},
   "outputs": [],
   "source": []
  }
 ],
 "metadata": {
  "kernelspec": {
   "display_name": "Python [conda env:base] *",
   "language": "python",
   "name": "conda-base-py"
  },
  "language_info": {
   "codemirror_mode": {
    "name": "ipython",
    "version": 3
   },
   "file_extension": ".py",
   "mimetype": "text/x-python",
   "name": "python",
   "nbconvert_exporter": "python",
   "pygments_lexer": "ipython3",
   "version": "3.13.5"
  }
 },
 "nbformat": 4,
 "nbformat_minor": 5
}
